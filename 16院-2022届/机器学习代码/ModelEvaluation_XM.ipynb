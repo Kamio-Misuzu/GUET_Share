{
 "cells": [
  {
   "cell_type": "markdown",
   "metadata": {},
   "source": [
    "# 最初的分类器"
   ]
  },
  {
   "cell_type": "markdown",
   "metadata": {},
   "source": [
    "## digits数据集 "
   ]
  },
  {
   "cell_type": "code",
   "execution_count": 1,
   "metadata": {},
   "outputs": [
    {
     "data": {
      "image/png": "[encoded data removed]",
      "text/plain": [
       "<Figure size 432x288 with 10 Axes>"
      ]
     },
     "metadata": {
      "needs_background": "light"
     },
     "output_type": "display_data"
    }
   ],
   "source": [
    "import matplotlib.pyplot as plt\n",
    "from sklearn import datasets\n",
    "\n",
    "# 加载digits数据\n",
    "digits = datasets.load_digits()\n",
    "\n",
    "# 在第2行第5列显示图像\n",
    "for label, img in zip(digits.target[:10], digits.images[:10]):\n",
    "    plt.subplot(2, 5, label + 1)\n",
    "    plt.axis('off')\n",
    "    plt.imshow(img, cmap=plt.cm.gray_r, interpolation='nearest')\n",
    "    plt.title('Digit: {0}'.format(label))\n",
    "    \n",
    "plt.show()"
   ]
  },
  {
   "cell_type": "markdown",
   "metadata": {},
   "source": [
    "## 创建分类器进行评价"
   ]
  },
  {
   "cell_type": "code",
   "execution_count": 2,
   "metadata": {},
   "outputs": [],
   "source": [
    "import numpy as np\n",
    "from sklearn import datasets\n",
    "\n",
    "# 读取手写数字的数据\n",
    "digits = datasets.load_digits()\n",
    "\n",
    "# 求出3和8的数据位置\n",
    "flag_3_8 = (digits.target == 3) + (digits.target == 8)\n",
    "\n",
    "# 获得3和8的数据\n",
    "images = digits.images[flag_3_8]\n",
    "labels = digits.target[flag_3_8]\n",
    "\n",
    "# 把3和8的图像转成一维数组\n",
    "images = images.reshape(images.shape[0], -1)"
   ]
  },
  {
   "cell_type": "code",
   "execution_count": 3,
   "metadata": {},
   "outputs": [
    {
     "name": "stdout",
     "output_type": "stream",
     "text": [
      "n_samples: 357\n"
     ]
    },
    {
     "data": {
      "text/plain": [
       "DecisionTreeClassifier(max_depth=3)"
      ]
     },
     "execution_count": 3,
     "metadata": {},
     "output_type": "execute_result"
    }
   ],
   "source": [
    "from sklearn import tree\n",
    "\n",
    "# 把3和8的图像转成一维数组\n",
    "images = images.reshape(images.shape[0], -1)\n",
    "\n",
    "# 分类器的生成\n",
    "n_samples = len(flag_3_8[flag_3_8])\n",
    "print('n_samples:', n_samples)\n",
    "train_size = int(n_samples * 3 / 5)\n",
    "classifier = tree.DecisionTreeClassifier(max_depth=3)\n",
    "classifier.fit(images[:train_size], labels[:train_size])"
   ]
  },
  {
   "cell_type": "code",
   "execution_count": 4,
   "metadata": {},
   "outputs": [
    {
     "name": "stdout",
     "output_type": "stream",
     "text": [
      "Accuracy:\n",
      " 0.8811188811188811\n"
     ]
    }
   ],
   "source": [
    "from sklearn import metrics\n",
    "\n",
    "expected = labels[train_size:]\n",
    "predicted  = classifier.predict(images[train_size:])\n",
    "\n",
    "print('Accuracy:\\n', metrics.accuracy_score(expected, predicted))"
   ]
  },
  {
   "cell_type": "markdown",
   "metadata": {},
   "source": [
    "## 查看手写数字图像分类器的性能"
   ]
  },
  {
   "cell_type": "code",
   "execution_count": 5,
   "metadata": {},
   "outputs": [
    {
     "name": "stdout",
     "output_type": "stream",
     "text": [
      "Accuracy:\n",
      " 0.8811188811188811\n",
      "\n",
      "Confusion matrix:\n",
      " [[62 13]\n",
      " [ 4 64]]\n",
      "\n",
      "Precision;\n",
      " 0.9393939393939394\n",
      "\n",
      "Recall:\n",
      " 0.8266666666666667\n",
      "\n",
      "F-measure:\n",
      " 0.8794326241134751\n"
     ]
    }
   ],
   "source": [
    "print('Accuracy:\\n', metrics.accuracy_score(expected, predicted))\n",
    "print('\\nConfusion matrix:\\n', metrics.confusion_matrix(expected, predicted))\n",
    "print('\\nPrecision;\\n', metrics.precision_score(expected, predicted, pos_label=3))\n",
    "print('\\nRecall:\\n', metrics.recall_score(expected, predicted, pos_label=3))\n",
    "print('\\nF-measure:\\n', metrics.f1_score(expected, predicted, pos_label=3))"
   ]
  },
  {
   "cell_type": "markdown",
   "metadata": {},
   "source": [
    "## ROC曲线绘制"
   ]
  },
  {
   "cell_type": "code",
   "execution_count": 6,
   "metadata": {},
   "outputs": [],
   "source": [
    "from sklearn.metrics import roc_curve, auc\n",
    "import numpy as np\n",
    "# y  = np.array([1, 1, 2, 2])\n",
    "# scores = np.array([0.1, 0.4, 0.35, 0.8])\n",
    "\n",
    "fpr = np.array([0, 0.08, 0.09, 0.18, 0.18, 0.18, 0.27, 0.36, 0.45, 0.54, 0.63, 0.63, 0.76, 0.88, 1])\n",
    "tpr = np.array([0, 0.12, 0.21, 0.26, 0.37, 0.47, 0.53, 0.58, 0.63, 0.68, 0.74, 0.84, 0.89, 0.94, 1])\n",
    "\n",
    "\n",
    "# roc_curve的输入为\n",
    "# y: 样本标签\n",
    "# scores: 模型对样本属于正例的概率输出\n",
    "# pos_label: 标记为正例的标签，本例中标记为2的即为正例\n",
    "# fpr, tpr, thresholds = metrics.roc_curve(y, scores, pos_label=2)\n",
    "auc = metrics.auc(fpr, tpr)\n"
   ]
  },
  {
   "cell_type": "code",
   "execution_count": 7,
   "metadata": {},
   "outputs": [
    {
     "data": {
      "image/png": "[encoded data removed]",
      "text/plain": [
       "<Figure size 432x288 with 1 Axes>"
      ]
     },
     "metadata": {
      "needs_background": "light"
     },
     "output_type": "display_data"
    }
   ],
   "source": [
    "import matplotlib.pyplot as plt\n",
    "plt.figure()\n",
    "# \n",
    "lw = 2\n",
    "plt.scatter(fpr, tpr, color='k')\n",
    "plt.plot(fpr, tpr, color='k', lw=lw, label=\"ROC curve (AUC = %0.2f)\" % auc)\n",
    "plt.plot([0,1], [0,1], color='navy', lw=lw, linestyle='--')\n",
    "plt.xlim([-0.01, 1.0])\n",
    "plt.ylim([-0.01, 1.05])\n",
    "plt.xlabel('False Positive Rate')\n",
    "plt.ylabel('True Positive Rate')\n",
    "plt.title('Receiver operating characteristic example')\n",
    "plt.legend(loc='lower right')\n",
    "plt.show()"
   ]
  },
  {
   "cell_type": "code",
   "execution_count": null,
   "metadata": {},
   "outputs": [],
   "source": []
  }
 ],
 "metadata": {
  "kernelspec": {
   "display_name": "Python 3",
   "language": "python",
   "name": "python3"
  },
  "language_info": {
   "codemirror_mode": {
    "name": "ipython",
    "version": 3
   },
   "file_extension": ".py",
   "mimetype": "text/x-python",
   "name": "python",
   "nbconvert_exporter": "python",
   "pygments_lexer": "ipython3",
   "version": "3.8.8"
  }
 },
 "nbformat": 4,
 "nbformat_minor": 4
}
