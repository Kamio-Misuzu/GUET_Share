{
 "cells": [
  {
   "cell_type": "markdown",
   "id": "0c1e11f2",
   "metadata": {},
   "source": [
    "## 假设检验\n",
    "### t检验\n",
    "#### 单样本t检验\n",
    "研究对象：均值\n",
    "研究目标：均值是否与某个值存在差异\n",
    "\n",
    "零假设：模型A的平均精度是0.9\n",
    "备择假设：模型A的平均精度不是0.9"
   ]
  },
  {
   "cell_type": "code",
   "execution_count": 1,
   "id": "95f2013d",
   "metadata": {},
   "outputs": [],
   "source": [
    "# 用于数值计算的库\n",
    "import numpy as np\n",
    "import pandas as pd\n",
    "import scipy as sp\n",
    "from scipy import stats\n",
    "\n",
    "# 用于绘图的库\n",
    "from matplotlib import pyplot as plt\n",
    "import seaborn as sns\n",
    "sns.set()\n",
    "\n",
    "# 在Jupyter Notebook里显示图形\n",
    "%matplotlib inline\n"
   ]
  },
  {
   "cell_type": "code",
   "execution_count": 2,
   "id": "04805e51",
   "metadata": {},
   "outputs": [
    {
     "data": {
      "text/plain": [
       "0    0.93\n",
       "1    0.89\n",
       "2    0.90\n",
       "3    0.88\n",
       "4    0.94\n",
       "Name: accuracy, dtype: float64"
      ]
     },
     "execution_count": 2,
     "metadata": {},
     "output_type": "execute_result"
    }
   ],
   "source": [
    "rice_weight = pd.read_csv(\"model-A-one-sample-t-test.csv\")[\"accuracy\"]\n",
    "rice_weight.head()"
   ]
  },
  {
   "cell_type": "code",
   "execution_count": 3,
   "id": "2df9ae7d",
   "metadata": {},
   "outputs": [
    {
     "data": {
      "text/plain": [
       "0.917"
      ]
     },
     "execution_count": 3,
     "metadata": {},
     "output_type": "execute_result"
    }
   ],
   "source": [
    "# 计算样本均值\n",
    "mu = np.mean(rice_weight)\n",
    "mu"
   ]
  },
  {
   "cell_type": "code",
   "execution_count": 4,
   "id": "a5411ae4",
   "metadata": {},
   "outputs": [
    {
     "data": {
      "text/plain": [
       "9"
      ]
     },
     "execution_count": 4,
     "metadata": {},
     "output_type": "execute_result"
    }
   ],
   "source": [
    "# 自由度\n",
    "df = len(rice_weight) - 1\n",
    "df"
   ]
  },
  {
   "cell_type": "code",
   "execution_count": 5,
   "id": "2eb1768a",
   "metadata": {},
   "outputs": [
    {
     "data": {
      "text/plain": [
       "0.006999999999999997"
      ]
     },
     "execution_count": 5,
     "metadata": {},
     "output_type": "execute_result"
    }
   ],
   "source": [
    "# 计算标准偏差\n",
    "sigma = np.std(rice_weight, ddof = 1)\n",
    "# t值计算公式的分母\n",
    "se = sigma / np.sqrt(len(rice_weight))\n",
    "se"
   ]
  },
  {
   "cell_type": "code",
   "execution_count": 6,
   "id": "7174300c",
   "metadata": {},
   "outputs": [
    {
     "data": {
      "text/plain": [
       "2.428571428571432"
      ]
     },
     "execution_count": 6,
     "metadata": {},
     "output_type": "execute_result"
    }
   ],
   "source": [
    "# 计算t值\n",
    "t_value = abs(mu - 0.9) / se\n",
    "t_value"
   ]
  },
  {
   "cell_type": "code",
   "execution_count": 7,
   "id": "c3f2cf53",
   "metadata": {},
   "outputs": [
    {
     "data": {
      "text/plain": [
       "2.2621571627409915"
      ]
     },
     "execution_count": 7,
     "metadata": {},
     "output_type": "execute_result"
    }
   ],
   "source": [
    "# 计算临界t值\n",
    "# ppf(percent point function)是cdf(cumulative distribution function)的逆函数\n",
    "critical_t_value = stats.t.ppf(1 - 0.025, 9)\n",
    "critical_t_value"
   ]
  },
  {
   "cell_type": "code",
   "execution_count": 8,
   "id": "cb9ee0b1",
   "metadata": {},
   "outputs": [
    {
     "name": "stdout",
     "output_type": "stream",
     "text": [
      "拒绝零假设，即，模型A的平均精度不是0.9\n"
     ]
    }
   ],
   "source": [
    "if t_value >= critical_t_value:\n",
    "    print(\"拒绝零假设，即，模型A的平均精度不是0.9\")\n",
    "else:\n",
    "    print(\"接受零假设，即，模型A的平均精度是0.9\")"
   ]
  },
  {
   "cell_type": "code",
   "execution_count": 9,
   "id": "d1cbbe3d",
   "metadata": {},
   "outputs": [
    {
     "data": {
      "text/plain": [
       "0.038071655004727534"
      ]
     },
     "execution_count": 9,
     "metadata": {},
     "output_type": "execute_result"
    }
   ],
   "source": [
    "# 计算p值，即，由t分布的累积分布函数计算得到总体均值为50时的概率\n",
    "alpha_Ave = stats.t.cdf(t_value, df = df)\n",
    "p_value = (1 -  alpha_Ave) * 2\n",
    "p_value "
   ]
  },
  {
   "cell_type": "code",
   "execution_count": 10,
   "id": "6e29674a",
   "metadata": {},
   "outputs": [
    {
     "data": {
      "text/plain": [
       "(2.428571428571432, 0.038071655004727686)"
      ]
     },
     "execution_count": 10,
     "metadata": {},
     "output_type": "execute_result"
    }
   ],
   "source": [
    "# 校对组\n",
    "t_value_proof, p_value_proof = stats.ttest_1samp(rice_weight, 0.9)\n",
    "t_value_proof, p_value_proof"
   ]
  },
  {
   "cell_type": "code",
   "execution_count": 11,
   "id": "ac0e752a",
   "metadata": {},
   "outputs": [
    {
     "name": "stdout",
     "output_type": "stream",
     "text": [
      "拒绝零假设，即，模型A的平均精度不是0.9\n"
     ]
    }
   ],
   "source": [
    "alpha = 0.05\n",
    "if p_value <= alpha:\n",
    "    print(\"拒绝零假设，即，模型A的平均精度不是0.9\")\n",
    "else:\n",
    "    print(\"接受零假设，即，模型A的平均精度是0.9\")"
   ]
  },
  {
   "cell_type": "markdown",
   "id": "9ce2bb8e",
   "metadata": {},
   "source": [
    "### 配对样本t检验\n",
    "零假设：两个模型的精度不存在显著性差异\n",
    "备择假设；两个模型的精度存在显著性差异\n",
    "显著性水平：0.05\n"
   ]
  },
  {
   "cell_type": "code",
   "execution_count": 12,
   "id": "7c621e64",
   "metadata": {},
   "outputs": [
    {
     "name": "stdout",
     "output_type": "stream",
     "text": [
      "   index  model_A  model_B\n",
      "0      1     0.93     0.90\n",
      "1      2     0.89     0.88\n",
      "2      3     0.90     0.89\n",
      "3      4     0.88     0.92\n",
      "4      5     0.94     0.91\n",
      "5      6     0.93     0.90\n",
      "6      7     0.92     0.87\n",
      "7      8     0.95     0.89\n",
      "8      9     0.91     0.92\n",
      "9     10     0.92     0.91\n"
     ]
    }
   ],
   "source": [
    "weight_paired_test_data = pd.read_csv(\"accuracy-paired-t-test.csv\")\n",
    "print(weight_paired_test_data)"
   ]
  },
  {
   "cell_type": "code",
   "execution_count": 22,
   "id": "4980c2d8",
   "metadata": {},
   "outputs": [
    {
     "data": {
      "text/plain": [
       "array([ 0.03,  0.01,  0.01, -0.04,  0.03,  0.03,  0.05,  0.06, -0.01,\n",
       "        0.01])"
      ]
     },
     "execution_count": 22,
     "metadata": {},
     "output_type": "execute_result"
    }
   ],
   "source": [
    "# 样本数组\n",
    "rice_weight_A = weight_paired_test_data[\"model_A\"]\n",
    "rice_weight_B = weight_paired_test_data[\"model_B\"]\n",
    "# 转化为数组型\n",
    "rice_weight_A = np.array(rice_weight_A)\n",
    "rice_weight_B = np.array(rice_weight_B)\n",
    "# 计算差值\n",
    "diff = rice_weight_A - rice_weight_B\n",
    "diff"
   ]
  },
  {
   "cell_type": "code",
   "execution_count": 23,
   "id": "a9735a53",
   "metadata": {},
   "outputs": [
    {
     "data": {
      "text/plain": [
       "Ttest_1sampResult(statistic=1.9639610121239308, pvalue=0.08112618884584076)"
      ]
     },
     "execution_count": 23,
     "metadata": {},
     "output_type": "execute_result"
    }
   ],
   "source": [
    "# 进行单样本t检验\n",
    "stats.ttest_1samp(diff, 0)"
   ]
  },
  {
   "cell_type": "code",
   "execution_count": 24,
   "id": "f3e56c26",
   "metadata": {},
   "outputs": [
    {
     "data": {
      "text/plain": [
       "(-1.9639610121239308, 0.08112618884584076)"
      ]
     },
     "execution_count": 24,
     "metadata": {},
     "output_type": "execute_result"
    }
   ],
   "source": [
    "# stats中的配对样本t检验方法，直接计算配对样本t检验的t值和p值\n",
    "paired_tvalue, paried_pvalue = stats.ttest_rel(rice_weight_B, rice_weight_A)\n",
    "paired_tvalue, paried_pvalue"
   ]
  },
  {
   "cell_type": "code",
   "execution_count": 25,
   "id": "5a7c0317",
   "metadata": {},
   "outputs": [
    {
     "data": {
      "text/plain": [
       "0.08112618884584077"
      ]
     },
     "execution_count": 25,
     "metadata": {},
     "output_type": "execute_result"
    }
   ],
   "source": [
    "# 按公式计算p值\n",
    "paired_alpha = stats.t.cdf(abs(paired_tvalue), df = 9)\n",
    "paired_p_value = (1 -  paired_alpha) * 2\n",
    "paired_p_value "
   ]
  },
  {
   "cell_type": "code",
   "execution_count": 26,
   "id": "d1f16445",
   "metadata": {},
   "outputs": [
    {
     "name": "stdout",
     "output_type": "stream",
     "text": [
      "接受零假设，即，两个模型的精度不存在显著性差异\n"
     ]
    }
   ],
   "source": [
    "if paired_p_value  <= alpha:\n",
    "    print(\"拒绝零假设，即，两个模型的精度存在显著性差异\")\n",
    "else:\n",
    "    print(\"接受零假设，即，两个模型的精度不存在显著性差异\")"
   ]
  },
  {
   "cell_type": "code",
   "execution_count": null,
   "id": "ca8fe00e",
   "metadata": {},
   "outputs": [],
   "source": []
  }
 ],
 "metadata": {
  "kernelspec": {
   "display_name": "Python 3",
   "language": "python",
   "name": "python3"
  },
  "language_info": {
   "codemirror_mode": {
    "name": "ipython",
    "version": 3
   },
   "file_extension": ".py",
   "mimetype": "text/x-python",
   "name": "python",
   "nbconvert_exporter": "python",
   "pygments_lexer": "ipython3",
   "version": "3.8.8"
  }
 },
 "nbformat": 4,
 "nbformat_minor": 5
}
