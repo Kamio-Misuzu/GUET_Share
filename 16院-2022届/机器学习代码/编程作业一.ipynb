{
 "cells": [
  {
   "cell_type": "markdown",
   "id": "0910a58a",
   "metadata": {},
   "source": [
    "## 编程作业一"
   ]
  },
  {
   "cell_type": "markdown",
   "id": "fcd720d3",
   "metadata": {},
   "source": [
    "### 加载数据集\n",
    "请从UCI机器学习知识库（https://archive.ics.uci.edu/datasets ） 中任意下载一分类数据集进行接下来的实验分析。\n",
    "1. 读取数据为dataframe格式\n",
    "2. 查看数据的前几行，默认显示前5行"
   ]
  },
  {
   "cell_type": "code",
   "execution_count": 1,
   "id": "5b37ded2",
   "metadata": {},
   "outputs": [],
   "source": [
    "# 请完成代码"
   ]
  },
  {
   "cell_type": "markdown",
   "id": "8e952d2b",
   "metadata": {},
   "source": [
    "### 数据探索\n",
    "1. 显示数据集中实例数量、属性个数、类别个数。"
   ]
  },
  {
   "cell_type": "code",
   "execution_count": 8,
   "id": "ce3d5202",
   "metadata": {},
   "outputs": [],
   "source": [
    "# 请完成代码"
   ]
  },
  {
   "cell_type": "markdown",
   "id": "9b1f7cc5",
   "metadata": {},
   "source": [
    "### 留出法\n",
    "请简要介绍留出法，并用留出法对scikitlearn中任意机器学习分类模型进行评估，输出准确率、查准率、查全率、F1分数等评价指标及混淆矩阵。"
   ]
  },
  {
   "cell_type": "code",
   "execution_count": 9,
   "id": "df8e7574",
   "metadata": {},
   "outputs": [],
   "source": [
    "# 请完成代码"
   ]
  },
  {
   "cell_type": "markdown",
   "id": "a3f7a6ff",
   "metadata": {},
   "source": [
    "### 交叉验证法\n",
    "请简要介绍交叉验证法，并用十重交叉法对scikitlearn中同上机器学习分类模型进行评估，输出准确率、查准率、查全率、F1分数等评价指标及混淆矩阵。"
   ]
  },
  {
   "cell_type": "code",
   "execution_count": 10,
   "id": "dffb021c",
   "metadata": {},
   "outputs": [],
   "source": [
    "# 请完成代码"
   ]
  },
  {
   "cell_type": "markdown",
   "id": "a8cbbc73",
   "metadata": {},
   "source": [
    "### 自助法\n",
    "请简要介绍自助法，并用交叉法对scikitlearn中同上机器学习分类模型进行评估，输出准确率、查准率、查全率、F1分数等评价指标及混淆矩阵。"
   ]
  },
  {
   "cell_type": "code",
   "execution_count": 13,
   "id": "074ddae1",
   "metadata": {},
   "outputs": [],
   "source": [
    "# 请完成代码"
   ]
  },
  {
   "cell_type": "markdown",
   "id": "fbe09ffc",
   "metadata": {},
   "source": [
    "### 挑战测试：模型准确率对不同重数的交叉验证的稳定性\n",
    "绘制出不同重数下交叉验证获得的模型准确率的曲线示意图"
   ]
  },
  {
   "cell_type": "code",
   "execution_count": 14,
   "id": "eb723c83",
   "metadata": {},
   "outputs": [],
   "source": [
    "# 请完成代码"
   ]
  },
  {
   "cell_type": "code",
   "execution_count": null,
   "id": "78aca1c9",
   "metadata": {},
   "outputs": [],
   "source": []
  }
 ],
 "metadata": {
  "kernelspec": {
   "display_name": "Python 3",
   "language": "python",
   "name": "python3"
  },
  "language_info": {
   "codemirror_mode": {
    "name": "ipython",
    "version": 3
   },
   "file_extension": ".py",
   "mimetype": "text/x-python",
   "name": "python",
   "nbconvert_exporter": "python",
   "pygments_lexer": "ipython3",
   "version": "3.8.8"
  }
 },
 "nbformat": 4,
 "nbformat_minor": 5
}
