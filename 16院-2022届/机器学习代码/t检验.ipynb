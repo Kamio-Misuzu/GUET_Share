{
 "cells": [
  {
   "cell_type": "markdown",
   "id": "786b07a1",
   "metadata": {},
   "source": [
    "## 假设检验\n",
    "### t检验\n",
    "#### 单样本t检验\n",
    "研究对象：均值\n",
    "研究目标：均值是否与某个值存在差异\n",
    "实例：食堂阿姨给你的一两米饭是不是50克，你要的是50克，实际给你的是不是50克。因为阿姨每次打饭的都是有偏差的，我们只能希望均值是50克\n",
    "\n",
    "为判断食堂阿姨每次打的1两米饭均和50克有没有差异，我们利用t检验来进行分析。\n",
    "\n",
    "零假设：阿姨给的1两米饭均值是50克\n",
    "备择假设：阿姨给的1两米饭均值不是50克\n"
   ]
  },
  {
   "cell_type": "code",
   "execution_count": 4,
   "id": "bd9efb31",
   "metadata": {},
   "outputs": [],
   "source": [
    "# 用于数值计算的库\n",
    "import numpy as np\n",
    "import pandas as pd\n",
    "import scipy as sp\n",
    "from scipy import stats\n",
    "\n",
    "# 用于绘图的库\n",
    "from matplotlib import pyplot as plt\n",
    "import seaborn as sns\n",
    "sns.set()\n",
    "\n",
    "# 在Jupyter Notebook里显示图形\n",
    "%matplotlib inline\n"
   ]
  },
  {
   "cell_type": "code",
   "execution_count": 5,
   "id": "3389284e",
   "metadata": {},
   "outputs": [
    {
     "data": {
      "text/plain": [
       "0    55\n",
       "1    56\n",
       "2    54\n",
       "3    53\n",
       "4    60\n",
       "Name: weight, dtype: int64"
      ]
     },
     "execution_count": 5,
     "metadata": {},
     "output_type": "execute_result"
    }
   ],
   "source": [
    "rice_weight = pd.read_csv(\"one-sample-t-test.csv\")[\"weight\"]\n",
    "rice_weight.head()"
   ]
  },
  {
   "cell_type": "code",
   "execution_count": 6,
   "id": "f7e2811a",
   "metadata": {},
   "outputs": [
    {
     "data": {
      "text/plain": [
       "54.1"
      ]
     },
     "execution_count": 6,
     "metadata": {},
     "output_type": "execute_result"
    }
   ],
   "source": [
    "# 计算样本均值\n",
    "mu = np.mean(rice_weight)\n",
    "mu"
   ]
  },
  {
   "cell_type": "code",
   "execution_count": 7,
   "id": "c8633fff",
   "metadata": {},
   "outputs": [
    {
     "data": {
      "text/plain": [
       "9"
      ]
     },
     "execution_count": 7,
     "metadata": {},
     "output_type": "execute_result"
    }
   ],
   "source": [
    "# 自由度\n",
    "df = len(rice_weight) - 1\n",
    "df"
   ]
  },
  {
   "cell_type": "code",
   "execution_count": 8,
   "id": "3b735fdc",
   "metadata": {},
   "outputs": [
    {
     "data": {
      "text/plain": [
       "1.1967548714010827"
      ]
     },
     "execution_count": 8,
     "metadata": {},
     "output_type": "execute_result"
    }
   ],
   "source": [
    "# 计算标准偏差\n",
    "sigma = np.std(rice_weight, ddof = 1)\n",
    "# t值计算公式的分母\n",
    "se = sigma / np.sqrt(len(rice_weight))\n",
    "se"
   ]
  },
  {
   "cell_type": "code",
   "execution_count": 9,
   "id": "c53dbbf8",
   "metadata": {},
   "outputs": [
    {
     "data": {
      "text/plain": [
       "3.425931323095421"
      ]
     },
     "execution_count": 9,
     "metadata": {},
     "output_type": "execute_result"
    }
   ],
   "source": [
    "# 计算t值\n",
    "t_value = abs(mu - 50) / se\n",
    "t_value"
   ]
  },
  {
   "cell_type": "code",
   "execution_count": 10,
   "id": "a4a3d018",
   "metadata": {},
   "outputs": [
    {
     "data": {
      "text/plain": [
       "2.2621571627409915"
      ]
     },
     "execution_count": 10,
     "metadata": {},
     "output_type": "execute_result"
    }
   ],
   "source": [
    "# 计算临界t值\n",
    "# 百分点函数ppf(percent point function)是cdf(cumulative distribution function)的逆函数\n",
    "critical_t_value = stats.t.ppf(1 - 0.025, 9)\n",
    "critical_t_value"
   ]
  },
  {
   "cell_type": "code",
   "execution_count": 11,
   "id": "4b761c4b",
   "metadata": {},
   "outputs": [
    {
     "name": "stdout",
     "output_type": "stream",
     "text": [
      "拒绝零假设，即，阿姨的1两米饭均值不是50克\n"
     ]
    }
   ],
   "source": [
    "if t_value >= critical_t_value:\n",
    "    print(\"拒绝零假设，即，阿姨的1两米饭均值不是50克\")\n",
    "else:\n",
    "    print(\"接受零假设，即，阿姨的1两米饭均值是50克\")"
   ]
  },
  {
   "cell_type": "code",
   "execution_count": 12,
   "id": "e9301bad",
   "metadata": {},
   "outputs": [
    {
     "data": {
      "text/plain": [
       "0.007556702096497059"
      ]
     },
     "execution_count": 12,
     "metadata": {},
     "output_type": "execute_result"
    }
   ],
   "source": [
    "# 计算p值，即，由t分布的累积分布函数计算得到总体均值为50时的概率\n",
    "alpha_Ave = stats.t.cdf(t_value, df = df)\n",
    "p_value = (1 -  alpha_Ave) * 2\n",
    "p_value "
   ]
  },
  {
   "cell_type": "code",
   "execution_count": 13,
   "id": "04d68001",
   "metadata": {},
   "outputs": [
    {
     "data": {
      "text/plain": [
       "(3.425931323095421, 0.007556702096497187)"
      ]
     },
     "execution_count": 13,
     "metadata": {},
     "output_type": "execute_result"
    }
   ],
   "source": [
    "# 校对组\n",
    "t_value_proof, p_value_proof = stats.ttest_1samp(rice_weight, 50)\n",
    "t_value_proof, p_value_proof"
   ]
  },
  {
   "cell_type": "code",
   "execution_count": 14,
   "id": "b06b126e",
   "metadata": {},
   "outputs": [
    {
     "name": "stdout",
     "output_type": "stream",
     "text": [
      "拒绝零假设，即，阿姨的1两米饭均值不是50克\n"
     ]
    }
   ],
   "source": [
    "alpha = 0.05\n",
    "if p_value <= alpha:\n",
    "    print(\"拒绝零假设，即，阿姨的1两米饭均值不是50克\")\n",
    "else:\n",
    "    print(\"接受零假设，即，阿姨的1两米饭均值是50克\")"
   ]
  },
  {
   "cell_type": "markdown",
   "id": "0872bfa9",
   "metadata": {},
   "source": [
    "### 配对样本t检验\n",
    "零假设：两位阿姨打一两米饭的重量没有显著性差异\n",
    "备择假设；两位阿姨打一两米饭的重量存在显著性差异\n",
    "显著性水平：0.05\n"
   ]
  },
  {
   "cell_type": "code",
   "execution_count": 15,
   "id": "6ae0eba7",
   "metadata": {},
   "outputs": [
    {
     "name": "stdout",
     "output_type": "stream",
     "text": [
      "  person  weight_A  weight_B\n",
      "0      A        55        46\n",
      "1      B        56        47\n",
      "2      C        54        50\n",
      "3      D        53        45\n",
      "4      E        60        51\n",
      "5      F        56        52\n",
      "6      G        55        55\n",
      "7      H        54        40\n",
      "8      I        53        42\n",
      "9      J        45        48\n"
     ]
    }
   ],
   "source": [
    "weight_paired_test_data = pd.read_csv(\"weight-paired-t-test.csv\")\n",
    "print(weight_paired_test_data)"
   ]
  },
  {
   "cell_type": "code",
   "execution_count": 16,
   "id": "ef8f8f7b",
   "metadata": {},
   "outputs": [
    {
     "data": {
      "text/plain": [
       "array([ 9,  9,  4,  8,  9,  4,  0, 14, 11, -3], dtype=int64)"
      ]
     },
     "execution_count": 16,
     "metadata": {},
     "output_type": "execute_result"
    }
   ],
   "source": [
    "# 样本数组\n",
    "rice_weight_A = weight_paired_test_data[\"weight_A\"]\n",
    "rice_weight_B = weight_paired_test_data[\"weight_B\"]\n",
    "# 转化为数组型\n",
    "rice_weight_A = np.array(rice_weight_A)\n",
    "rice_weight_B = np.array(rice_weight_B)\n",
    "# 计算差值\n",
    "diff = rice_weight_A - rice_weight_B\n",
    "diff"
   ]
  },
  {
   "cell_type": "code",
   "execution_count": 17,
   "id": "a24ead95",
   "metadata": {},
   "outputs": [
    {
     "data": {
      "text/plain": [
       "Ttest_1sampResult(statistic=3.9598500440211146, pvalue=0.003305025148278502)"
      ]
     },
     "execution_count": 17,
     "metadata": {},
     "output_type": "execute_result"
    }
   ],
   "source": [
    "# 进行单样本t检验\n",
    "stats.ttest_1samp(diff, 0)"
   ]
  },
  {
   "cell_type": "code",
   "execution_count": 18,
   "id": "0dd07332",
   "metadata": {},
   "outputs": [
    {
     "data": {
      "text/plain": [
       "(-3.9598500440211146, 0.003305025148278502)"
      ]
     },
     "execution_count": 18,
     "metadata": {},
     "output_type": "execute_result"
    }
   ],
   "source": [
    "# stats中的配对样本t检验方法，直接计算配对样本t检验的t值和p值\n",
    "paired_tvalue, paried_pvalue = stats.ttest_rel(rice_weight_B, rice_weight_A)\n",
    "paired_tvalue, paried_pvalue"
   ]
  },
  {
   "cell_type": "code",
   "execution_count": 19,
   "id": "f7abb9c6",
   "metadata": {},
   "outputs": [
    {
     "data": {
      "text/plain": [
       "0.003305025148278462"
      ]
     },
     "execution_count": 19,
     "metadata": {},
     "output_type": "execute_result"
    }
   ],
   "source": [
    "# 按公式计算p值\n",
    "paired_alpha = stats.t.cdf(abs(paired_tvalue), df = 9)\n",
    "paired_p_value = (1 -  paired_alpha) * 2\n",
    "paired_p_value "
   ]
  },
  {
   "cell_type": "code",
   "execution_count": 20,
   "id": "3e533dcd",
   "metadata": {},
   "outputs": [
    {
     "name": "stdout",
     "output_type": "stream",
     "text": [
      "拒绝零假设，即，两位阿姨打一两米饭的重量存在显著性差异\n"
     ]
    }
   ],
   "source": [
    "if paired_p_value  <= alpha:\n",
    "    print(\"拒绝零假设，即，两位阿姨打一两米饭的重量存在显著性差异\")\n",
    "else:\n",
    "    print(\"接受零假设，即，两位阿姨打一两米饭的重量不存在显著性差异\")"
   ]
  },
  {
   "cell_type": "code",
   "execution_count": null,
   "id": "f15da29d",
   "metadata": {},
   "outputs": [],
   "source": []
  },
  {
   "cell_type": "code",
   "execution_count": null,
   "id": "39ccc011",
   "metadata": {},
   "outputs": [],
   "source": []
  }
 ],
 "metadata": {
  "kernelspec": {
   "display_name": "Python 3",
   "language": "python",
   "name": "python3"
  },
  "language_info": {
   "codemirror_mode": {
    "name": "ipython",
    "version": 3
   },
   "file_extension": ".py",
   "mimetype": "text/x-python",
   "name": "python",
   "nbconvert_exporter": "python",
   "pygments_lexer": "ipython3",
   "version": "3.8.8"
  }
 },
 "nbformat": 4,
 "nbformat_minor": 5
}
