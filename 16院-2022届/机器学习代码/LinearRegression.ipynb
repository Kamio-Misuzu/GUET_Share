{
 "cells": [
  {
   "cell_type": "code",
   "execution_count": 1,
   "id": "a31f4a59",
   "metadata": {},
   "outputs": [
    {
     "name": "stdout",
     "output_type": "stream",
     "text": [
      "普通线性回归系数: [1.02256165 2.0393386  3.11345614 3.99881044 4.95840306]\n",
      "岭回归系数（lambda = 0.1）: [1.02091215 2.03752148 3.11024965 3.99582761 4.95374357]\n"
     ]
    }
   ],
   "source": [
    "import numpy as np\n",
    "\n",
    "def ordinary_least_squares(X, y):\n",
    "    # 普通最小二乘法求解线性回归\n",
    "    X_transpose = np.transpose(X)\n",
    "    theta = np.linalg.inv(X_transpose.dot(X)).dot(X_transpose).dot(y)\n",
    "    return theta\n",
    "\n",
    "def ridge_regression(X, y, lambda_):\n",
    "    # 岭回归（L2正则化线性回归）\n",
    "    X_transpose = np.transpose(X)\n",
    "    identity_matrix = np.eye(X.shape[1])\n",
    "    theta = np.linalg.inv(X_transpose.dot(X) + lambda_ * identity_matrix).dot(X_transpose).dot(y)\n",
    "    return theta\n",
    "\n",
    "\n",
    "# 生成一些示例数据\n",
    "np.random.seed(0)\n",
    "n_samples = 100\n",
    "n_features = 5\n",
    "X = np.random.randn(n_samples, n_features)\n",
    "true_theta = np.array([1, 2, 3, 4, 5])\n",
    "y = np.dot(X, true_theta) + np.random.randn(n_samples) * 0.5\n",
    "\n",
    "# 普通线性回归\n",
    "theta_ols = ordinary_least_squares(X, y)\n",
    "print(\"普通线性回归系数:\", theta_ols)\n",
    "\n",
    "# 岭回归，设置lambda = 0.1\n",
    "lambda_value = 0.1\n",
    "theta_ridge = ridge_regression(X, y, lambda_value)\n",
    "print(\"岭回归系数（lambda = 0.1）:\", theta_ridge)"
   ]
  },
  {
   "cell_type": "code",
   "execution_count": null,
   "id": "4bd95e8a",
   "metadata": {},
   "outputs": [],
   "source": []
  }
 ],
 "metadata": {
  "kernelspec": {
   "display_name": "Python 3",
   "language": "python",
   "name": "python3"
  },
  "language_info": {
   "codemirror_mode": {
    "name": "ipython",
    "version": 3
   },
   "file_extension": ".py",
   "mimetype": "text/x-python",
   "name": "python",
   "nbconvert_exporter": "python",
   "pygments_lexer": "ipython3",
   "version": "3.8.8"
  }
 },
 "nbformat": 4,
 "nbformat_minor": 5
}
