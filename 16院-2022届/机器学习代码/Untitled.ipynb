{
 "cells": [
  {
   "cell_type": "markdown",
   "id": "eb8dbb52",
   "metadata": {},
   "source": [
    "## 贝叶斯分类器"
   ]
  },
  {
   "cell_type": "markdown",
   "id": "a658b0db",
   "metadata": {},
   "source": [
    "### 贝叶斯分类器基本原理"
   ]
  },
  {
   "cell_type": "markdown",
   "id": "38009dbe",
   "metadata": {},
   "source": [
    "### 条件风险\n",
    "在贝叶斯理论中，条件风险的计算公式为：$R(d(x)\\vert x)=\\sum_{j = 1}^{K}L(d(x),C_j)P(C_j\\vert x)$。\n",
    "\n",
    "以下是对这个公式各部分的解释：\n",
    "\n",
    "**一、公式组成部分**\n",
    "\n",
    "1. $R(d(x)\\vert x)$：表示在给定样本 $x$ 的条件下，采取决策 $d(x)$ 所带来的条件风险。\n",
    "2. $L(d(x),C_j)$：是损失函数，表示当样本实际属于类别 $C_j$ 而被决策为 $d(x)$ 时的损失。损失函数的具体形式可以根据具体问题来定义，常见的有 0-1 损失函数（分类正确时损失为 0，错误时损失为 1）、平方损失函数等。\n",
    "3. $P(C_j\\vert x)$：是在给定样本 $x$ 的条件下，样本属于类别 $C_j$ 的后验概率。后验概率可以通过贝叶斯公式计算得到，它反映了在已知样本特征的情况下，样本属于各个类别的可能性大小。\n",
    "\n",
    "**二、公式计算过程**\n",
    "\n",
    "1. 对于每一个类别 $C_j$（$j = 1,2,\\cdots,K$），首先计算损失函数 $L(d(x),C_j)$，即如果样本被错误地分类到其他类别而不是 $C_j$ 时所产生的损失。\n",
    "2. 然后乘以该类别在给定样本 $x$ 条件下的后验概率 $P(C_j\\vert x)$，这样就得到了在给定样本 $x$ 的条件下，采取决策 $d(x)$ 且样本实际属于类别 $C_j$ 时的期望损失。\n",
    "3. 最后，对所有的类别 $C_j$ 进行求和，得到总的条件风险。\n",
    "\n",
    "**三、公式的意义**\n",
    "\n",
    "这个公式的意义在于，它综合考虑了所有可能的类别以及在不同类别下采取决策的损失和概率。通过计算条件风险，我们可以找到在给定样本情况下，使期望损失最小的决策。这样的决策更加稳健，能够在不确定性的情况下降低错误分类带来的损失。\n",
    "\n",
    "**【我的理解】**\n",
    "\n",
    "若 $d(x)=C_j$，则 $L(d(x),C_j)=0$。\n",
    "\n",
    "因而，式子$R(d(x)\\vert x)=\\sum_{j = 1}^{K}L(d(x),C_j)P(C_j\\vert x)$中只剩下$x$被错分为其他类的概率$P(C_j\\vert x)$及其对应损失$L(d(x),C_j)$，累加和为采取决策 $d(x)$ 且样本实际属于类别 $C_j$ 时的期望损失.\n",
    "\n",
    "这里，累加公式中的索引不用$j$，可能更好理解。$R(d(x)\\vert x)=\\sum_{l = 1}^{K}L(d(x),C_l)P(C_l\\vert x)$, $C_j$是真实类标，$l = j$ 且 $d(x)=C_j$时，累加和同上。\n"
   ]
  },
  {
   "cell_type": "code",
   "execution_count": null,
   "id": "c9a57f88",
   "metadata": {},
   "outputs": [],
   "source": []
  }
 ],
 "metadata": {
  "kernelspec": {
   "display_name": "Python 3",
   "language": "python",
   "name": "python3"
  },
  "language_info": {
   "codemirror_mode": {
    "name": "ipython",
    "version": 3
   },
   "file_extension": ".py",
   "mimetype": "text/x-python",
   "name": "python",
   "nbconvert_exporter": "python",
   "pygments_lexer": "ipython3",
   "version": "3.8.8"
  }
 },
 "nbformat": 4,
 "nbformat_minor": 5
}
