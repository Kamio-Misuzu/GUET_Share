{
 "cells": [
  {
   "cell_type": "markdown",
   "id": "4ca103ce",
   "metadata": {},
   "source": [
    "## 特别说明"
   ]
  },
  {
   "cell_type": "markdown",
   "id": "463865cb",
   "metadata": {},
   "source": [
    "1. 本项目文件代码都由AI工具（豆包）生成或由网络资源获得，随尽可能标注出了出处，但难免有遗漏，因此本文件仅供自学和教学演示使用，不要外传。"
   ]
  },
  {
   "cell_type": "markdown",
   "id": "a11e392e",
   "metadata": {},
   "source": [
    "2. 相关AI生成代码未经逐行审查，难免有疏漏，请各位同学审慎使用，主要理解代码所要传达的意思，自己进行必要的审查。"
   ]
  },
  {
   "cell_type": "markdown",
   "id": "e6586265",
   "metadata": {},
   "source": [
    "3. 如有任何疑问，请和老师联系或用AI工具进行修改。如所修改对所有学生有较大益处，老师将予以奖励。"
   ]
  }
 ],
 "metadata": {
  "kernelspec": {
   "display_name": "Python 3",
   "language": "python",
   "name": "python3"
  },
  "language_info": {
   "codemirror_mode": {
    "name": "ipython",
    "version": 3
   },
   "file_extension": ".py",
   "mimetype": "text/x-python",
   "name": "python",
   "nbconvert_exporter": "python",
   "pygments_lexer": "ipython3",
   "version": "3.8.8"
  }
 },
 "nbformat": 4,
 "nbformat_minor": 5
}
